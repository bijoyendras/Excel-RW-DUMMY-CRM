{
  "nbformat": 4,
  "nbformat_minor": 0,
  "metadata": {
    "colab": {
      "provenance": []
    },
    "kernelspec": {
      "name": "python3",
      "display_name": "Python 3"
    },
    "language_info": {
      "name": "python"
    }
  },
  "cells": [
    {
      "cell_type": "code",
      "source": [
        "!pip install xlwt"
      ],
      "metadata": {
        "colab": {
          "base_uri": "https://localhost:8080/"
        },
        "id": "2702_TDNmM9u",
        "outputId": "2e18daf2-b650-4591-bbbc-5aab072e72ad"
      },
      "execution_count": 1,
      "outputs": [
        {
          "output_type": "stream",
          "name": "stdout",
          "text": [
            "Looking in indexes: https://pypi.org/simple, https://us-python.pkg.dev/colab-wheels/public/simple/\n",
            "Requirement already satisfied: xlwt in /usr/local/lib/python3.8/dist-packages (1.3.0)\n"
          ]
        }
      ]
    },
    {
      "cell_type": "code",
      "source": [
        "import random\n",
        "import xlwt\n"
      ],
      "metadata": {
        "id": "0kskeUxPvOpV"
      },
      "execution_count": 8,
      "outputs": []
    },
    {
      "cell_type": "code",
      "source": [
        "# create a list of Indian names\n",
        "indian_names = {\n",
        "    'first_name': ['Anjali', 'Amit', 'Ankush', 'Arjun', 'Deepak', 'Divya', 'Gaurav', 'Karan', 'Krishna', 'Manoj'],\n",
        "    'last_name': ['Agarwal', 'Gupta', 'Jain', 'Kumar', 'Mehta', 'Sharma', 'Singh', 'Verma']\n",
        "}\n",
        "\n",
        "# create a list of Indian companies\n",
        "companies = ['ABC Pvt Ltd', 'XYZ Inc', 'Tech Mahindra', 'Infosys', 'TCS', 'Wipro']\n",
        "#create a list of Indian cities\n",
        "cities = ['Delhi','Mumbai','Banglore','Hyderabad','Chennai','Kolkata']\n",
        "#create a list of Indian states\n",
        "states = ['Andhra Pradesh','Arunachal Pradesh','Assam','Bihar','Chhattisgarh','Goa','Gujarat','Haryana','Himachal Pradesh','Jharkhand','Karnatak']\n",
        "#create a list of Indian Currencies\n",
        "currencies = ['INR','USD','EUR','CAD','AED','SAR']\n",
        "book = xlwt.Workbook()\n",
        "sheet1 = book.add_sheet(\"Sheet 1\")\n",
        "sheet1.write(0, 0, \"ID\")\n",
        "sheet1.write(0, 1, \"First Name\")\n",
        "sheet1.write(0, 2, \"Last Name\")\n",
        "sheet1.write(0, 3, \"Full Name\")\n",
        "sheet1.write(0, 4, \"Company\")\n",
        "sheet1.write(0, 5, \"Street\")\n",
        "sheet1.write(0, 6, \"City\")\n",
        "sheet1.write(0, 7, \"State\")\n",
        "sheet1.write(0, 8, \"Postal Code\")\n",
        "sheet1.write(0, 9, \"Country\")\n",
        "sheet1.write(0, 10, \"Fax\")\n",
        "sheet1.write(0, 11, \"Phone\")\n",
        "sheet1.write(0, 12, \"Activity Time\")\n",
        "sheet1.write(0, 13, \"Currency\")\n",
        "sheet1.write(0, 14, \"Date Of Birth\")\n",
        "sheet1.write(0, 15, \"EMail\")\n",
        "\n"
      ],
      "metadata": {
        "id": "D3C2zHY1vQWT"
      },
      "execution_count": 9,
      "outputs": []
    },
    {
      "cell_type": "code",
      "source": [
        "for i in range(1, 101):\n",
        "   \n",
        "    # Generate a random dummy value\n",
        "    id_value = 'zcrm_3305160240_' + str(i)\n",
        "    # randomly select first_name from list\n",
        "    first_name = random.choice(indian_names['first_name'])\n",
        "    # randomly select last_name from list\n",
        "    last_name = random.choice(indian_names['last_name'])\n",
        "    full_name = first_name + ' ' + last_name\n",
        "    #randomly select company from the list\n",
        "    company = random.choice(companies)\n",
        "    #randomly select city from the list\n",
        "    city = random.choice(cities)\n",
        "    #randomly select state from the list\n",
        "    state = random.choice(states)\n",
        "    # randomly select Currency from list\n",
        "    currency = random.choice(currencies)\n",
        "    #generate random postel code\n",
        "    postal_code = random.randint(110000, 999999)\n",
        "    #generate random fax \n",
        "    fax = random.randint(1111111111, 9999999999)\n",
        "    #generate random phone \n",
        "    phone = random.randint(1111111111, 9999999999)\n",
        "    #generate random activity time\n",
        "    activity_time = random.randint(1, 24)\n",
        "    #generated date of birth in format DD-MM-YYYY\n",
        "    dob = '{:02d}-{:02d}-{:04d}'.format(random.randint(1,28),random.randint(1,12), random.randint(1950, 2010))\n",
        "    #generating email by adding firstname_lastname@company.com\n",
        "    email = first_name.lower() + '_' + last_name.lower() + '@' + company.lower().replace(\" \",\".\") + '.com'\n",
        "\n",
        "    # Write the ID, first_name, last_name, full_name, company, street, city, state, postal_code, country, fax, phone, activity_time, currency, dob, email to the Excel sheet\n",
        "    sheet1.write(i, 0, id_value)\n",
        "    sheet1.write(i, 1, first_name)\n",
        "    sheet1.write(i, 2, last_name)\n",
        "    sheet1.write(i, 3, full_name)\n",
        "    sheet1.write(i, 4, company)\n",
        "    sheet1.write(i, 5, 'random street')\n",
        "    sheet1.write(i, 6, city)\n",
        "    sheet1.write(i, 7, state)\n",
        "    sheet1.write(i, 8, postal_code)\n",
        "    sheet1.write(i, 9, 'India')\n",
        "    sheet1.write(i, 10, fax)\n",
        "    sheet1.write(i, 11, phone)\n",
        "    sheet1.write(i, 12, activity_time)\n",
        "    sheet1.write(i, 13, currency)\n",
        "    sheet1.write(i, 14, dob)\n",
        "    sheet1.write(i, 15, email)\n"
      ],
      "metadata": {
        "id": "5P13crIBvRSp"
      },
      "execution_count": 11,
      "outputs": []
    },
    {
      "cell_type": "code",
      "source": [
        "book.save(\"crm_zoho_dummy.xls\")\n"
      ],
      "metadata": {
        "id": "-L0tgdVAvf1o"
      },
      "execution_count": 12,
      "outputs": []
    }
  ]
}